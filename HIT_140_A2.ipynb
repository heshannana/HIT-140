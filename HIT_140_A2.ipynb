{
  "cells": [
    {
      "cell_type": "markdown",
      "metadata": {
        "id": "view-in-github",
        "colab_type": "text"
      },
      "source": [
        "<a href=\"https://colab.research.google.com/github/heshannana/HIT-140/blob/Heshan-Changes/HIT_140_A2.ipynb\" target=\"_parent\"><img src=\"https://colab.research.google.com/assets/colab-badge.svg\" alt=\"Open In Colab\"/></a>"
      ]
    },
    {
      "cell_type": "code",
      "execution_count": null,
      "id": "dcf6ed44",
      "metadata": {
        "id": "dcf6ed44"
      },
      "outputs": [],
      "source": [
        "import pandas as pd\n",
        "import numpy as np\n",
        "from sklearn.model_selection import train_test_split\n",
        "from sklearn import metrics\n",
        "import matplotlib.pyplot as plt\n",
        "from sklearn.model_selection import LeaveOneOut\n",
        "from sklearn.model_selection import cross_val_score\n",
        "import sklearn.linear_model as skl_lm"
      ]
    },
    {
      "cell_type": "markdown",
      "id": "73f96ea8",
      "metadata": {
        "id": "73f96ea8"
      },
      "source": [
        "## Exploratory Data Analysis"
      ]
    },
    {
      "cell_type": "code",
      "execution_count": null,
      "id": "d7be9d69",
      "metadata": {
        "id": "d7be9d69"
      },
      "outputs": [],
      "source": [
        "data = pd.read_csv(\"/content/fairfield_data.csv\", sep = \",\", encoding=\"ISO-8859-1\")"
      ]
    },
    {
      "cell_type": "code",
      "execution_count": null,
      "id": "468b8578",
      "metadata": {
        "colab": {
          "base_uri": "https://localhost:8080/"
        },
        "id": "468b8578",
        "outputId": "c6b8d188-3f0e-4ebf-cd7a-570fa4ead6c5"
      },
      "outputs": [
        {
          "output_type": "execute_result",
          "data": {
            "text/plain": [
              "(122, 12)"
            ]
          },
          "metadata": {},
          "execution_count": 3
        }
      ],
      "source": [
        "data.shape"
      ]
    },
    {
      "cell_type": "code",
      "execution_count": null,
      "id": "56b89289",
      "metadata": {
        "colab": {
          "base_uri": "https://localhost:8080/"
        },
        "id": "56b89289",
        "outputId": "cf70429f-a498-414a-ad05-dd67ebb0de98"
      },
      "outputs": [
        {
          "output_type": "execute_result",
          "data": {
            "text/plain": [
              "Reservoir        0\n",
              "Fish             0\n",
              "Mercury          0\n",
              "Elevation        0\n",
              "Drainage Area    3\n",
              "Surface Area     0\n",
              "Max Depth        1\n",
              "RF               7\n",
              "FR               7\n",
              "Dam              3\n",
              "RT               1\n",
              "RS               2\n",
              "dtype: int64"
            ]
          },
          "metadata": {},
          "execution_count": 4
        }
      ],
      "source": [
        "data.isna().sum()"
      ]
    },
    {
      "cell_type": "code",
      "execution_count": null,
      "id": "c606d8f8",
      "metadata": {
        "colab": {
          "base_uri": "https://localhost:8080/"
        },
        "id": "c606d8f8",
        "outputId": "ecc0ebb6-a0b2-425e-b3ea-832c0c7d0ad2"
      },
      "outputs": [
        {
          "output_type": "execute_result",
          "data": {
            "text/plain": [
              "Reservoir         object\n",
              "Fish               int64\n",
              "Mercury          float64\n",
              "Elevation          int64\n",
              "Drainage Area    float64\n",
              "Surface Area       int64\n",
              "Max Depth        float64\n",
              "RF               float64\n",
              "FR               float64\n",
              "Dam              float64\n",
              "RT               float64\n",
              "RS               float64\n",
              "dtype: object"
            ]
          },
          "metadata": {},
          "execution_count": 5
        }
      ],
      "source": [
        "data.dtypes"
      ]
    },
    {
      "cell_type": "code",
      "execution_count": null,
      "id": "a7631a8f",
      "metadata": {
        "colab": {
          "base_uri": "https://localhost:8080/"
        },
        "id": "a7631a8f",
        "outputId": "c05a3ed4-3b92-432f-9423-399334b8bc04"
      },
      "outputs": [
        {
          "output_type": "stream",
          "name": "stderr",
          "text": [
            "/usr/local/lib/python3.7/dist-packages/ipykernel_launcher.py:1: FutureWarning: Dropping of nuisance columns in DataFrame reductions (with 'numeric_only=None') is deprecated; in a future version this will raise TypeError.  Select only valid columns before calling the reduction.\n",
            "  \"\"\"Entry point for launching an IPython kernel.\n"
          ]
        },
        {
          "output_type": "execute_result",
          "data": {
            "text/plain": [
              "Reservoir        0\n",
              "Fish             0\n",
              "Mercury          0\n",
              "Elevation        0\n",
              "Drainage Area    0\n",
              "Surface Area     0\n",
              "Max Depth        0\n",
              "RF               0\n",
              "FR               0\n",
              "Dam              0\n",
              "RT               0\n",
              "RS               0\n",
              "dtype: int64"
            ]
          },
          "metadata": {},
          "execution_count": 7
        }
      ],
      "source": [
        "data = data.fillna(data.mean())\n",
        "data.isna().sum()"
      ]
    },
    {
      "cell_type": "code",
      "execution_count": null,
      "id": "19a605f3",
      "metadata": {
        "colab": {
          "base_uri": "https://localhost:8080/"
        },
        "id": "19a605f3",
        "outputId": "a3627063-9496-4c34-f9a7-c68292cf03b6"
      },
      "outputs": [
        {
          "output_type": "execute_result",
          "data": {
            "text/plain": [
              "array(['Abilene', 'Abraham Lake', 'Academy', 'Acadia', 'Acadia Valley',\n",
              "       'Acheson', 'Acme', 'Adair Creek', 'Adams Creek', 'Bangs Lake',\n",
              "       'Bank Bay', 'Bank Creek', 'Bankfoot Creek', 'Bankhead', 'Bankview',\n",
              "       'Bannerman', 'Barnegat', 'Barnes Ridge', 'Barnett Lake',\n",
              "       'Barnwell', 'Fork Lake', 'Fort Creek', 'Fox Creek', 'Gadois Lake',\n",
              "       'Gap Creek', 'Gardiner Creek', 'Geikie Lake', 'Geraldine Lakes',\n",
              "       'Gerard Creek', 'Gertrude Lake', 'Giants Mirror', 'Halach',\n",
              "       'Halcreek', 'Halfway Creek', 'Halifax Coulee', 'Hamilton Hill',\n",
              "       'Hamptons', 'Ice Water Creek', 'Junction Creek', 'Jutland Brook',\n",
              "       'Kakina Lake', 'Kakut Creek', 'Kamisak Lake', 'Katchemut Creek',\n",
              "       'Kaufmann Creek', 'Keane Creek', 'Keith Lake', 'Owl Lake',\n",
              "       'Owlseye Lake', 'Oxbow Lake', 'Oxley Creek', 'Pair Lakes',\n",
              "       'Pans Lake', 'Paradise Basin', 'Paradise Creek', 'Parker Lake',\n",
              "       'Parlby Lake', 'Parsons Creek', 'Partridge Lake', 'Pasque Creek',\n",
              "       'Pastecho Lake', 'Plante Creek', 'Plover Lake', 'Poboktan Creek',\n",
              "       'Poison Creek', 'Pony Creek', 'Popular Point Lake',\n",
              "       'Stimson Creek', 'Stirling Lake', 'Stones Canyon Creek',\n",
              "       'Stony Woman Creek', 'Stormy Creek', 'Stouffers Lake',\n",
              "       'Stove Lake', 'Strawberry Lake', 'Stronach Lake', 'Sturgeon Lake',\n",
              "       'Swoda Creek', 'Sylvester Creek', 'Tail Creek', 'Talbot Lake',\n",
              "       'Tamarack Lake', 'Tate Creek', 'Tattum Lake', 'Tawayik Lake',\n",
              "       'Taylor Lake', 'Telegraph Creek', 'Temple Creek', 'Tepee Creek',\n",
              "       'Tetley Creek', 'The Snowbowl', 'Thinahtea Creek', 'Third Lake',\n",
              "       'Thompson Lake', 'Thoreau Creek', 'Two Dam Creek',\n",
              "       \"Two O'Clock Creek\", 'Tyler Lake', 'Underwood Lake', 'Updike Lake',\n",
              "       'Upper Bertha Falls', 'Upper Mann Lake', 'Upper Thérien Lake',\n",
              "       'Utikuma Lake', 'Valhalla Lake', 'Valley Creek', 'Vokes Lake',\n",
              "       'Volcano Creek', 'Wabash Creek', 'Waddell Creek', 'Wadlin Lake',\n",
              "       'Wagon Creek', 'Wallaby Lake', 'Wildman Creek', 'Wilson Creek',\n",
              "       'Winnifred Lake', 'Wood Buffalo Lake', 'Yak Lakes',\n",
              "       'Yellowstone Creek', 'Zama Lake', 'Zephyr Creek', 'Zig Zag Lake'],\n",
              "      dtype=object)"
            ]
          },
          "metadata": {},
          "execution_count": 8
        }
      ],
      "source": [
        "data['Reservoir'].unique()"
      ]
    },
    {
      "cell_type": "code",
      "execution_count": null,
      "id": "525d7d51",
      "metadata": {
        "colab": {
          "base_uri": "https://localhost:8080/",
          "height": 322
        },
        "id": "525d7d51",
        "outputId": "e3ff76ee-1bb8-438e-c144-65fcdae293f4"
      },
      "outputs": [
        {
          "output_type": "execute_result",
          "data": {
            "text/plain": [
              "       Reservoir  Fish  Mercury  Elevation  Drainage Area  Surface Area  \\\n",
              "0        Abilene     3    0.053        196            6.0            74   \n",
              "1   Abraham Lake     4    0.350        345           15.0           360   \n",
              "2        Academy     5    0.540        487            1.0           175   \n",
              "3         Acadia     5    0.290        165          131.0          5543   \n",
              "4  Acadia Valley     5    0.910       1273           65.0           700   \n",
              "\n",
              "   Max Depth    RF   FR  Dam   RT   RS  \n",
              "0       36.0  0.44  1.1  1.0  2.0  0.0  \n",
              "1       80.0  0.51  1.7  0.0  3.0  1.0  \n",
              "2       10.0  0.57  1.5  0.0  3.0  0.0  \n",
              "3      100.0  0.51  1.1  0.0  2.0  1.0  \n",
              "4      106.0  0.62  4.3  0.0  1.0  1.0  "
            ],
            "text/html": [
              "\n",
              "  <div id=\"df-dba3c2ca-f49c-4180-8b31-fef281b52df6\">\n",
              "    <div class=\"colab-df-container\">\n",
              "      <div>\n",
              "<style scoped>\n",
              "    .dataframe tbody tr th:only-of-type {\n",
              "        vertical-align: middle;\n",
              "    }\n",
              "\n",
              "    .dataframe tbody tr th {\n",
              "        vertical-align: top;\n",
              "    }\n",
              "\n",
              "    .dataframe thead th {\n",
              "        text-align: right;\n",
              "    }\n",
              "</style>\n",
              "<table border=\"1\" class=\"dataframe\">\n",
              "  <thead>\n",
              "    <tr style=\"text-align: right;\">\n",
              "      <th></th>\n",
              "      <th>Reservoir</th>\n",
              "      <th>Fish</th>\n",
              "      <th>Mercury</th>\n",
              "      <th>Elevation</th>\n",
              "      <th>Drainage Area</th>\n",
              "      <th>Surface Area</th>\n",
              "      <th>Max Depth</th>\n",
              "      <th>RF</th>\n",
              "      <th>FR</th>\n",
              "      <th>Dam</th>\n",
              "      <th>RT</th>\n",
              "      <th>RS</th>\n",
              "    </tr>\n",
              "  </thead>\n",
              "  <tbody>\n",
              "    <tr>\n",
              "      <th>0</th>\n",
              "      <td>Abilene</td>\n",
              "      <td>3</td>\n",
              "      <td>0.053</td>\n",
              "      <td>196</td>\n",
              "      <td>6.0</td>\n",
              "      <td>74</td>\n",
              "      <td>36.0</td>\n",
              "      <td>0.44</td>\n",
              "      <td>1.1</td>\n",
              "      <td>1.0</td>\n",
              "      <td>2.0</td>\n",
              "      <td>0.0</td>\n",
              "    </tr>\n",
              "    <tr>\n",
              "      <th>1</th>\n",
              "      <td>Abraham Lake</td>\n",
              "      <td>4</td>\n",
              "      <td>0.350</td>\n",
              "      <td>345</td>\n",
              "      <td>15.0</td>\n",
              "      <td>360</td>\n",
              "      <td>80.0</td>\n",
              "      <td>0.51</td>\n",
              "      <td>1.7</td>\n",
              "      <td>0.0</td>\n",
              "      <td>3.0</td>\n",
              "      <td>1.0</td>\n",
              "    </tr>\n",
              "    <tr>\n",
              "      <th>2</th>\n",
              "      <td>Academy</td>\n",
              "      <td>5</td>\n",
              "      <td>0.540</td>\n",
              "      <td>487</td>\n",
              "      <td>1.0</td>\n",
              "      <td>175</td>\n",
              "      <td>10.0</td>\n",
              "      <td>0.57</td>\n",
              "      <td>1.5</td>\n",
              "      <td>0.0</td>\n",
              "      <td>3.0</td>\n",
              "      <td>0.0</td>\n",
              "    </tr>\n",
              "    <tr>\n",
              "      <th>3</th>\n",
              "      <td>Acadia</td>\n",
              "      <td>5</td>\n",
              "      <td>0.290</td>\n",
              "      <td>165</td>\n",
              "      <td>131.0</td>\n",
              "      <td>5543</td>\n",
              "      <td>100.0</td>\n",
              "      <td>0.51</td>\n",
              "      <td>1.1</td>\n",
              "      <td>0.0</td>\n",
              "      <td>2.0</td>\n",
              "      <td>1.0</td>\n",
              "    </tr>\n",
              "    <tr>\n",
              "      <th>4</th>\n",
              "      <td>Acadia Valley</td>\n",
              "      <td>5</td>\n",
              "      <td>0.910</td>\n",
              "      <td>1273</td>\n",
              "      <td>65.0</td>\n",
              "      <td>700</td>\n",
              "      <td>106.0</td>\n",
              "      <td>0.62</td>\n",
              "      <td>4.3</td>\n",
              "      <td>0.0</td>\n",
              "      <td>1.0</td>\n",
              "      <td>1.0</td>\n",
              "    </tr>\n",
              "  </tbody>\n",
              "</table>\n",
              "</div>\n",
              "      <button class=\"colab-df-convert\" onclick=\"convertToInteractive('df-dba3c2ca-f49c-4180-8b31-fef281b52df6')\"\n",
              "              title=\"Convert this dataframe to an interactive table.\"\n",
              "              style=\"display:none;\">\n",
              "        \n",
              "  <svg xmlns=\"http://www.w3.org/2000/svg\" height=\"24px\"viewBox=\"0 0 24 24\"\n",
              "       width=\"24px\">\n",
              "    <path d=\"M0 0h24v24H0V0z\" fill=\"none\"/>\n",
              "    <path d=\"M18.56 5.44l.94 2.06.94-2.06 2.06-.94-2.06-.94-.94-2.06-.94 2.06-2.06.94zm-11 1L8.5 8.5l.94-2.06 2.06-.94-2.06-.94L8.5 2.5l-.94 2.06-2.06.94zm10 10l.94 2.06.94-2.06 2.06-.94-2.06-.94-.94-2.06-.94 2.06-2.06.94z\"/><path d=\"M17.41 7.96l-1.37-1.37c-.4-.4-.92-.59-1.43-.59-.52 0-1.04.2-1.43.59L10.3 9.45l-7.72 7.72c-.78.78-.78 2.05 0 2.83L4 21.41c.39.39.9.59 1.41.59.51 0 1.02-.2 1.41-.59l7.78-7.78 2.81-2.81c.8-.78.8-2.07 0-2.86zM5.41 20L4 18.59l7.72-7.72 1.47 1.35L5.41 20z\"/>\n",
              "  </svg>\n",
              "      </button>\n",
              "      \n",
              "  <style>\n",
              "    .colab-df-container {\n",
              "      display:flex;\n",
              "      flex-wrap:wrap;\n",
              "      gap: 12px;\n",
              "    }\n",
              "\n",
              "    .colab-df-convert {\n",
              "      background-color: #E8F0FE;\n",
              "      border: none;\n",
              "      border-radius: 50%;\n",
              "      cursor: pointer;\n",
              "      display: none;\n",
              "      fill: #1967D2;\n",
              "      height: 32px;\n",
              "      padding: 0 0 0 0;\n",
              "      width: 32px;\n",
              "    }\n",
              "\n",
              "    .colab-df-convert:hover {\n",
              "      background-color: #E2EBFA;\n",
              "      box-shadow: 0px 1px 2px rgba(60, 64, 67, 0.3), 0px 1px 3px 1px rgba(60, 64, 67, 0.15);\n",
              "      fill: #174EA6;\n",
              "    }\n",
              "\n",
              "    [theme=dark] .colab-df-convert {\n",
              "      background-color: #3B4455;\n",
              "      fill: #D2E3FC;\n",
              "    }\n",
              "\n",
              "    [theme=dark] .colab-df-convert:hover {\n",
              "      background-color: #434B5C;\n",
              "      box-shadow: 0px 1px 3px 1px rgba(0, 0, 0, 0.15);\n",
              "      filter: drop-shadow(0px 1px 2px rgba(0, 0, 0, 0.3));\n",
              "      fill: #FFFFFF;\n",
              "    }\n",
              "  </style>\n",
              "\n",
              "      <script>\n",
              "        const buttonEl =\n",
              "          document.querySelector('#df-dba3c2ca-f49c-4180-8b31-fef281b52df6 button.colab-df-convert');\n",
              "        buttonEl.style.display =\n",
              "          google.colab.kernel.accessAllowed ? 'block' : 'none';\n",
              "\n",
              "        async function convertToInteractive(key) {\n",
              "          const element = document.querySelector('#df-dba3c2ca-f49c-4180-8b31-fef281b52df6');\n",
              "          const dataTable =\n",
              "            await google.colab.kernel.invokeFunction('convertToInteractive',\n",
              "                                                     [key], {});\n",
              "          if (!dataTable) return;\n",
              "\n",
              "          const docLinkHtml = 'Like what you see? Visit the ' +\n",
              "            '<a target=\"_blank\" href=https://colab.research.google.com/notebooks/data_table.ipynb>data table notebook</a>'\n",
              "            + ' to learn more about interactive tables.';\n",
              "          element.innerHTML = '';\n",
              "          dataTable['output_type'] = 'display_data';\n",
              "          await google.colab.output.renderOutput(dataTable, element);\n",
              "          const docLink = document.createElement('div');\n",
              "          docLink.innerHTML = docLinkHtml;\n",
              "          element.appendChild(docLink);\n",
              "        }\n",
              "      </script>\n",
              "    </div>\n",
              "  </div>\n",
              "  "
            ]
          },
          "metadata": {},
          "execution_count": 9
        }
      ],
      "source": [
        "data.head()"
      ]
    },
    {
      "cell_type": "code",
      "execution_count": null,
      "id": "8117454f",
      "metadata": {
        "colab": {
          "base_uri": "https://localhost:8080/"
        },
        "id": "8117454f",
        "outputId": "94b40ef5-5ea1-4dbb-b0df-3d86026788e5"
      },
      "outputs": [
        {
          "output_type": "execute_result",
          "data": {
            "text/plain": [
              "Fish               int64\n",
              "Mercury          float64\n",
              "Elevation          int64\n",
              "Drainage Area    float64\n",
              "Surface Area       int64\n",
              "Max Depth        float64\n",
              "RF               float64\n",
              "FR               float64\n",
              "Dam              float64\n",
              "RT               float64\n",
              "RS               float64\n",
              "dtype: object"
            ]
          },
          "metadata": {},
          "execution_count": 10
        }
      ],
      "source": [
        "data = data.drop(['Reservoir'], axis = 1)\n",
        "data.dtypes"
      ]
    },
    {
      "cell_type": "code",
      "execution_count": null,
      "id": "e9d5a80c",
      "metadata": {
        "colab": {
          "base_uri": "https://localhost:8080/",
          "height": 484
        },
        "id": "e9d5a80c",
        "outputId": "e5b01b2c-ff6d-48b2-85a6-2e286a759e9a"
      },
      "outputs": [
        {
          "output_type": "execute_result",
          "data": {
            "text/plain": [
              "<pandas.io.formats.style.Styler at 0x7fe82abadc50>"
            ],
            "text/html": [
              "<style type=\"text/css\">\n",
              "#T_161b0_row0_col0, #T_161b0_row1_col1, #T_161b0_row2_col2, #T_161b0_row3_col3, #T_161b0_row4_col4, #T_161b0_row5_col5, #T_161b0_row6_col6, #T_161b0_row7_col7, #T_161b0_row8_col8, #T_161b0_row9_col9, #T_161b0_row10_col10 {\n",
              "  background-color: #b40426;\n",
              "  color: #f1f1f1;\n",
              "}\n",
              "#T_161b0_row0_col1 {\n",
              "  background-color: #93b5fe;\n",
              "  color: #000000;\n",
              "}\n",
              "#T_161b0_row0_col2 {\n",
              "  background-color: #6b8df0;\n",
              "  color: #f1f1f1;\n",
              "}\n",
              "#T_161b0_row0_col3, #T_161b0_row5_col6 {\n",
              "  background-color: #5d7ce6;\n",
              "  color: #f1f1f1;\n",
              "}\n",
              "#T_161b0_row0_col4, #T_161b0_row1_col4, #T_161b0_row8_col5 {\n",
              "  background-color: #6e90f2;\n",
              "  color: #f1f1f1;\n",
              "}\n",
              "#T_161b0_row0_col5 {\n",
              "  background-color: #80a3fa;\n",
              "  color: #f1f1f1;\n",
              "}\n",
              "#T_161b0_row0_col6 {\n",
              "  background-color: #536edd;\n",
              "  color: #f1f1f1;\n",
              "}\n",
              "#T_161b0_row0_col7, #T_161b0_row9_col6 {\n",
              "  background-color: #5572df;\n",
              "  color: #f1f1f1;\n",
              "}\n",
              "#T_161b0_row0_col8, #T_161b0_row9_col7 {\n",
              "  background-color: #779af7;\n",
              "  color: #f1f1f1;\n",
              "}\n",
              "#T_161b0_row0_col9 {\n",
              "  background-color: #c0d4f5;\n",
              "  color: #000000;\n",
              "}\n",
              "#T_161b0_row0_col10, #T_161b0_row2_col0 {\n",
              "  background-color: #5470de;\n",
              "  color: #f1f1f1;\n",
              "}\n",
              "#T_161b0_row1_col0, #T_161b0_row2_col10, #T_161b0_row3_col9, #T_161b0_row10_col8 {\n",
              "  background-color: #7ea1fa;\n",
              "  color: #f1f1f1;\n",
              "}\n",
              "#T_161b0_row1_col2, #T_161b0_row2_col1, #T_161b0_row4_col8, #T_161b0_row5_col7, #T_161b0_row5_col9, #T_161b0_row7_col0, #T_161b0_row8_col4, #T_161b0_row8_col6, #T_161b0_row9_col3, #T_161b0_row9_col5, #T_161b0_row9_col10 {\n",
              "  background-color: #3b4cc0;\n",
              "  color: #f1f1f1;\n",
              "}\n",
              "#T_161b0_row1_col3, #T_161b0_row4_col6 {\n",
              "  background-color: #516ddb;\n",
              "  color: #f1f1f1;\n",
              "}\n",
              "#T_161b0_row1_col5, #T_161b0_row6_col7 {\n",
              "  background-color: #8caffe;\n",
              "  color: #000000;\n",
              "}\n",
              "#T_161b0_row1_col6, #T_161b0_row10_col0 {\n",
              "  background-color: #4358cb;\n",
              "  color: #f1f1f1;\n",
              "}\n",
              "#T_161b0_row1_col7, #T_161b0_row2_col9, #T_161b0_row10_col4 {\n",
              "  background-color: #6c8ff1;\n",
              "  color: #f1f1f1;\n",
              "}\n",
              "#T_161b0_row1_col8, #T_161b0_row3_col8 {\n",
              "  background-color: #5e7de7;\n",
              "  color: #f1f1f1;\n",
              "}\n",
              "#T_161b0_row1_col9, #T_161b0_row2_col6 {\n",
              "  background-color: #9abbff;\n",
              "  color: #000000;\n",
              "}\n",
              "#T_161b0_row1_col10, #T_161b0_row3_col2, #T_161b0_row7_col2, #T_161b0_row9_col0 {\n",
              "  background-color: #92b4fe;\n",
              "  color: #000000;\n",
              "}\n",
              "#T_161b0_row2_col3, #T_161b0_row7_col3 {\n",
              "  background-color: #7597f6;\n",
              "  color: #f1f1f1;\n",
              "}\n",
              "#T_161b0_row2_col4, #T_161b0_row4_col7, #T_161b0_row7_col6, #T_161b0_row10_col9 {\n",
              "  background-color: #6485ec;\n",
              "  color: #f1f1f1;\n",
              "}\n",
              "#T_161b0_row2_col5 {\n",
              "  background-color: #abc8fd;\n",
              "  color: #000000;\n",
              "}\n",
              "#T_161b0_row2_col7 {\n",
              "  background-color: #94b6ff;\n",
              "  color: #000000;\n",
              "}\n",
              "#T_161b0_row2_col8 {\n",
              "  background-color: #b9d0f9;\n",
              "  color: #000000;\n",
              "}\n",
              "#T_161b0_row3_col0, #T_161b0_row4_col2 {\n",
              "  background-color: #6687ed;\n",
              "  color: #f1f1f1;\n",
              "}\n",
              "#T_161b0_row3_col1, #T_161b0_row4_col9 {\n",
              "  background-color: #7093f3;\n",
              "  color: #f1f1f1;\n",
              "}\n",
              "#T_161b0_row3_col4 {\n",
              "  background-color: #f6a283;\n",
              "  color: #000000;\n",
              "}\n",
              "#T_161b0_row3_col5 {\n",
              "  background-color: #dbdcde;\n",
              "  color: #000000;\n",
              "}\n",
              "#T_161b0_row3_col6, #T_161b0_row5_col8, #T_161b0_row10_col6 {\n",
              "  background-color: #4961d2;\n",
              "  color: #f1f1f1;\n",
              "}\n",
              "#T_161b0_row3_col7, #T_161b0_row7_col9 {\n",
              "  background-color: #96b7ff;\n",
              "  color: #000000;\n",
              "}\n",
              "#T_161b0_row3_col10, #T_161b0_row6_col0 {\n",
              "  background-color: #6282ea;\n",
              "  color: #f1f1f1;\n",
              "}\n",
              "#T_161b0_row4_col0, #T_161b0_row7_col10 {\n",
              "  background-color: #5875e1;\n",
              "  color: #f1f1f1;\n",
              "}\n",
              "#T_161b0_row4_col1 {\n",
              "  background-color: #6f92f3;\n",
              "  color: #f1f1f1;\n",
              "}\n",
              "#T_161b0_row4_col3 {\n",
              "  background-color: #f7ad90;\n",
              "  color: #000000;\n",
              "}\n",
              "#T_161b0_row4_col5 {\n",
              "  background-color: #ecd3c5;\n",
              "  color: #000000;\n",
              "}\n",
              "#T_161b0_row4_col10 {\n",
              "  background-color: #6788ee;\n",
              "  color: #f1f1f1;\n",
              "}\n",
              "#T_161b0_row5_col0 {\n",
              "  background-color: #455cce;\n",
              "  color: #f1f1f1;\n",
              "}\n",
              "#T_161b0_row5_col1, #T_161b0_row6_col1, #T_161b0_row7_col1 {\n",
              "  background-color: #6a8bef;\n",
              "  color: #f1f1f1;\n",
              "}\n",
              "#T_161b0_row5_col2 {\n",
              "  background-color: #8db0fe;\n",
              "  color: #000000;\n",
              "}\n",
              "#T_161b0_row5_col3 {\n",
              "  background-color: #b3cdfb;\n",
              "  color: #000000;\n",
              "}\n",
              "#T_161b0_row5_col4 {\n",
              "  background-color: #dddcdc;\n",
              "  color: #000000;\n",
              "}\n",
              "#T_161b0_row5_col10 {\n",
              "  background-color: #f6bea4;\n",
              "  color: #000000;\n",
              "}\n",
              "#T_161b0_row6_col2 {\n",
              "  background-color: #b7cff9;\n",
              "  color: #000000;\n",
              "}\n",
              "#T_161b0_row6_col3 {\n",
              "  background-color: #4f69d9;\n",
              "  color: #f1f1f1;\n",
              "}\n",
              "#T_161b0_row6_col4 {\n",
              "  background-color: #7699f6;\n",
              "  color: #f1f1f1;\n",
              "}\n",
              "#T_161b0_row6_col5 {\n",
              "  background-color: #a2c1ff;\n",
              "  color: #000000;\n",
              "}\n",
              "#T_161b0_row6_col8, #T_161b0_row8_col1 {\n",
              "  background-color: #5f7fe8;\n",
              "  color: #f1f1f1;\n",
              "}\n",
              "#T_161b0_row6_col9 {\n",
              "  background-color: #9bbcff;\n",
              "  color: #000000;\n",
              "}\n",
              "#T_161b0_row6_col10 {\n",
              "  background-color: #688aef;\n",
              "  color: #f1f1f1;\n",
              "}\n",
              "#T_161b0_row7_col4, #T_161b0_row8_col0, #T_161b0_row10_col7 {\n",
              "  background-color: #6180e9;\n",
              "  color: #f1f1f1;\n",
              "}\n",
              "#T_161b0_row7_col5 {\n",
              "  background-color: #5b7ae5;\n",
              "  color: #f1f1f1;\n",
              "}\n",
              "#T_161b0_row7_col8 {\n",
              "  background-color: #a3c2fe;\n",
              "  color: #000000;\n",
              "}\n",
              "#T_161b0_row8_col2 {\n",
              "  background-color: #bad0f8;\n",
              "  color: #000000;\n",
              "}\n",
              "#T_161b0_row8_col3 {\n",
              "  background-color: #3f53c6;\n",
              "  color: #f1f1f1;\n",
              "}\n",
              "#T_161b0_row8_col7 {\n",
              "  background-color: #a6c4fe;\n",
              "  color: #000000;\n",
              "}\n",
              "#T_161b0_row8_col9 {\n",
              "  background-color: #9dbdff;\n",
              "  color: #000000;\n",
              "}\n",
              "#T_161b0_row8_col10, #T_161b0_row9_col8 {\n",
              "  background-color: #7a9df8;\n",
              "  color: #f1f1f1;\n",
              "}\n",
              "#T_161b0_row9_col1 {\n",
              "  background-color: #799cf8;\n",
              "  color: #f1f1f1;\n",
              "}\n",
              "#T_161b0_row9_col2, #T_161b0_row10_col3 {\n",
              "  background-color: #485fd1;\n",
              "  color: #f1f1f1;\n",
              "}\n",
              "#T_161b0_row9_col4 {\n",
              "  background-color: #4b64d5;\n",
              "  color: #f1f1f1;\n",
              "}\n",
              "#T_161b0_row10_col1 {\n",
              "  background-color: #97b8ff;\n",
              "  color: #000000;\n",
              "}\n",
              "#T_161b0_row10_col2 {\n",
              "  background-color: #84a7fc;\n",
              "  color: #f1f1f1;\n",
              "}\n",
              "#T_161b0_row10_col5 {\n",
              "  background-color: #f7af91;\n",
              "  color: #000000;\n",
              "}\n",
              "</style>\n",
              "<table id=\"T_161b0_\" class=\"dataframe\">\n",
              "  <thead>\n",
              "    <tr>\n",
              "      <th class=\"blank level0\" >&nbsp;</th>\n",
              "      <th class=\"col_heading level0 col0\" >Fish</th>\n",
              "      <th class=\"col_heading level0 col1\" >Mercury</th>\n",
              "      <th class=\"col_heading level0 col2\" >Elevation</th>\n",
              "      <th class=\"col_heading level0 col3\" >Drainage Area</th>\n",
              "      <th class=\"col_heading level0 col4\" >Surface Area</th>\n",
              "      <th class=\"col_heading level0 col5\" >Max Depth</th>\n",
              "      <th class=\"col_heading level0 col6\" >RF</th>\n",
              "      <th class=\"col_heading level0 col7\" >FR</th>\n",
              "      <th class=\"col_heading level0 col8\" >Dam</th>\n",
              "      <th class=\"col_heading level0 col9\" >RT</th>\n",
              "      <th class=\"col_heading level0 col10\" >RS</th>\n",
              "    </tr>\n",
              "  </thead>\n",
              "  <tbody>\n",
              "    <tr>\n",
              "      <th id=\"T_161b0_level0_row0\" class=\"row_heading level0 row0\" >Fish</th>\n",
              "      <td id=\"T_161b0_row0_col0\" class=\"data row0 col0\" >1.000000</td>\n",
              "      <td id=\"T_161b0_row0_col1\" class=\"data row0 col1\" >0.081670</td>\n",
              "      <td id=\"T_161b0_row0_col2\" class=\"data row0 col2\" >-0.063021</td>\n",
              "      <td id=\"T_161b0_row0_col3\" class=\"data row0 col3\" >-0.000292</td>\n",
              "      <td id=\"T_161b0_row0_col4\" class=\"data row0 col4\" >-0.048742</td>\n",
              "      <td id=\"T_161b0_row0_col5\" class=\"data row0 col5\" >-0.115798</td>\n",
              "      <td id=\"T_161b0_row0_col6\" class=\"data row0 col6\" >-0.013176</td>\n",
              "      <td id=\"T_161b0_row0_col7\" class=\"data row0 col7\" >-0.159229</td>\n",
              "      <td id=\"T_161b0_row0_col8\" class=\"data row0 col8\" >-0.014626</td>\n",
              "      <td id=\"T_161b0_row0_col9\" class=\"data row0 col9\" >0.147731</td>\n",
              "      <td id=\"T_161b0_row0_col10\" class=\"data row0 col10\" >-0.126572</td>\n",
              "    </tr>\n",
              "    <tr>\n",
              "      <th id=\"T_161b0_level0_row1\" class=\"row_heading level0 row1\" >Mercury</th>\n",
              "      <td id=\"T_161b0_row1_col0\" class=\"data row1 col0\" >0.081670</td>\n",
              "      <td id=\"T_161b0_row1_col1\" class=\"data row1 col1\" >1.000000</td>\n",
              "      <td id=\"T_161b0_row1_col2\" class=\"data row1 col2\" >-0.254471</td>\n",
              "      <td id=\"T_161b0_row1_col3\" class=\"data row1 col3\" >-0.040958</td>\n",
              "      <td id=\"T_161b0_row1_col4\" class=\"data row1 col4\" >-0.046194</td>\n",
              "      <td id=\"T_161b0_row1_col5\" class=\"data row1 col5\" >-0.067790</td>\n",
              "      <td id=\"T_161b0_row1_col6\" class=\"data row1 col6\" >-0.067978</td>\n",
              "      <td id=\"T_161b0_row1_col7\" class=\"data row1 col7\" >-0.065539</td>\n",
              "      <td id=\"T_161b0_row1_col8\" class=\"data row1 col8\" >-0.106179</td>\n",
              "      <td id=\"T_161b0_row1_col9\" class=\"data row1 col9\" >-0.010882</td>\n",
              "      <td id=\"T_161b0_row1_col10\" class=\"data row1 col10\" >0.097639</td>\n",
              "    </tr>\n",
              "    <tr>\n",
              "      <th id=\"T_161b0_level0_row2\" class=\"row_heading level0 row2\" >Elevation</th>\n",
              "      <td id=\"T_161b0_row2_col0\" class=\"data row2 col0\" >-0.063021</td>\n",
              "      <td id=\"T_161b0_row2_col1\" class=\"data row2 col1\" >-0.254471</td>\n",
              "      <td id=\"T_161b0_row2_col2\" class=\"data row2 col2\" >1.000000</td>\n",
              "      <td id=\"T_161b0_row2_col3\" class=\"data row2 col3\" >0.076918</td>\n",
              "      <td id=\"T_161b0_row2_col4\" class=\"data row2 col4\" >-0.080914</td>\n",
              "      <td id=\"T_161b0_row2_col5\" class=\"data row2 col5\" >0.061466</td>\n",
              "      <td id=\"T_161b0_row2_col6\" class=\"data row2 col6\" >0.212996</td>\n",
              "      <td id=\"T_161b0_row2_col7\" class=\"data row2 col7\" >0.078223</td>\n",
              "      <td id=\"T_161b0_row2_col8\" class=\"data row2 col8\" >0.223379</td>\n",
              "      <td id=\"T_161b0_row2_col9\" class=\"data row2 col9\" >-0.198816</td>\n",
              "      <td id=\"T_161b0_row2_col10\" class=\"data row2 col10\" >0.029109</td>\n",
              "    </tr>\n",
              "    <tr>\n",
              "      <th id=\"T_161b0_level0_row3\" class=\"row_heading level0 row3\" >Drainage Area</th>\n",
              "      <td id=\"T_161b0_row3_col0\" class=\"data row3 col0\" >-0.000292</td>\n",
              "      <td id=\"T_161b0_row3_col1\" class=\"data row3 col1\" >-0.040958</td>\n",
              "      <td id=\"T_161b0_row3_col2\" class=\"data row3 col2\" >0.076918</td>\n",
              "      <td id=\"T_161b0_row3_col3\" class=\"data row3 col3\" >1.000000</td>\n",
              "      <td id=\"T_161b0_row3_col4\" class=\"data row3 col4\" >0.659250</td>\n",
              "      <td id=\"T_161b0_row3_col5\" class=\"data row3 col5\" >0.282624</td>\n",
              "      <td id=\"T_161b0_row3_col6\" class=\"data row3 col6\" >-0.049399</td>\n",
              "      <td id=\"T_161b0_row3_col7\" class=\"data row3 col7\" >0.080757</td>\n",
              "      <td id=\"T_161b0_row3_col8\" class=\"data row3 col8\" >-0.106427</td>\n",
              "      <td id=\"T_161b0_row3_col9\" class=\"data row3 col9\" >-0.125306</td>\n",
              "      <td id=\"T_161b0_row3_col10\" class=\"data row3 col10\" >-0.075024</td>\n",
              "    </tr>\n",
              "    <tr>\n",
              "      <th id=\"T_161b0_level0_row4\" class=\"row_heading level0 row4\" >Surface Area</th>\n",
              "      <td id=\"T_161b0_row4_col0\" class=\"data row4 col0\" >-0.048742</td>\n",
              "      <td id=\"T_161b0_row4_col1\" class=\"data row4 col1\" >-0.046194</td>\n",
              "      <td id=\"T_161b0_row4_col2\" class=\"data row4 col2\" >-0.080914</td>\n",
              "      <td id=\"T_161b0_row4_col3\" class=\"data row4 col3\" >0.659250</td>\n",
              "      <td id=\"T_161b0_row4_col4\" class=\"data row4 col4\" >1.000000</td>\n",
              "      <td id=\"T_161b0_row4_col5\" class=\"data row4 col5\" >0.378399</td>\n",
              "      <td id=\"T_161b0_row4_col6\" class=\"data row4 col6\" >-0.019287</td>\n",
              "      <td id=\"T_161b0_row4_col7\" class=\"data row4 col7\" >-0.095841</td>\n",
              "      <td id=\"T_161b0_row4_col8\" class=\"data row4 col8\" >-0.249824</td>\n",
              "      <td id=\"T_161b0_row4_col9\" class=\"data row4 col9\" >-0.178828</td>\n",
              "      <td id=\"T_161b0_row4_col10\" class=\"data row4 col10\" >-0.051953</td>\n",
              "    </tr>\n",
              "    <tr>\n",
              "      <th id=\"T_161b0_level0_row5\" class=\"row_heading level0 row5\" >Max Depth</th>\n",
              "      <td id=\"T_161b0_row5_col0\" class=\"data row5 col0\" >-0.115798</td>\n",
              "      <td id=\"T_161b0_row5_col1\" class=\"data row5 col1\" >-0.067790</td>\n",
              "      <td id=\"T_161b0_row5_col2\" class=\"data row5 col2\" >0.061466</td>\n",
              "      <td id=\"T_161b0_row5_col3\" class=\"data row5 col3\" >0.282624</td>\n",
              "      <td id=\"T_161b0_row5_col4\" class=\"data row5 col4\" >0.378399</td>\n",
              "      <td id=\"T_161b0_row5_col5\" class=\"data row5 col5\" >1.000000</td>\n",
              "      <td id=\"T_161b0_row5_col6\" class=\"data row5 col6\" >0.018216</td>\n",
              "      <td id=\"T_161b0_row5_col7\" class=\"data row5 col7\" >-0.268447</td>\n",
              "      <td id=\"T_161b0_row5_col8\" class=\"data row5 col8\" >-0.189783</td>\n",
              "      <td id=\"T_161b0_row5_col9\" class=\"data row5 col9\" >-0.420850</td>\n",
              "      <td id=\"T_161b0_row5_col10\" class=\"data row5 col10\" >0.563832</td>\n",
              "    </tr>\n",
              "    <tr>\n",
              "      <th id=\"T_161b0_level0_row6\" class=\"row_heading level0 row6\" >RF</th>\n",
              "      <td id=\"T_161b0_row6_col0\" class=\"data row6 col0\" >-0.013176</td>\n",
              "      <td id=\"T_161b0_row6_col1\" class=\"data row6 col1\" >-0.067978</td>\n",
              "      <td id=\"T_161b0_row6_col2\" class=\"data row6 col2\" >0.212996</td>\n",
              "      <td id=\"T_161b0_row6_col3\" class=\"data row6 col3\" >-0.049399</td>\n",
              "      <td id=\"T_161b0_row6_col4\" class=\"data row6 col4\" >-0.019287</td>\n",
              "      <td id=\"T_161b0_row6_col5\" class=\"data row6 col5\" >0.018216</td>\n",
              "      <td id=\"T_161b0_row6_col6\" class=\"data row6 col6\" >1.000000</td>\n",
              "      <td id=\"T_161b0_row6_col7\" class=\"data row6 col7\" >0.045905</td>\n",
              "      <td id=\"T_161b0_row6_col8\" class=\"data row6 col8\" >-0.102369</td>\n",
              "      <td id=\"T_161b0_row6_col9\" class=\"data row6 col9\" >-0.006838</td>\n",
              "      <td id=\"T_161b0_row6_col10\" class=\"data row6 col10\" >-0.047814</td>\n",
              "    </tr>\n",
              "    <tr>\n",
              "      <th id=\"T_161b0_level0_row7\" class=\"row_heading level0 row7\" >FR</th>\n",
              "      <td id=\"T_161b0_row7_col0\" class=\"data row7 col0\" >-0.159229</td>\n",
              "      <td id=\"T_161b0_row7_col1\" class=\"data row7 col1\" >-0.065539</td>\n",
              "      <td id=\"T_161b0_row7_col2\" class=\"data row7 col2\" >0.078223</td>\n",
              "      <td id=\"T_161b0_row7_col3\" class=\"data row7 col3\" >0.080757</td>\n",
              "      <td id=\"T_161b0_row7_col4\" class=\"data row7 col4\" >-0.095841</td>\n",
              "      <td id=\"T_161b0_row7_col5\" class=\"data row7 col5\" >-0.268447</td>\n",
              "      <td id=\"T_161b0_row7_col6\" class=\"data row7 col6\" >0.045905</td>\n",
              "      <td id=\"T_161b0_row7_col7\" class=\"data row7 col7\" >1.000000</td>\n",
              "      <td id=\"T_161b0_row7_col8\" class=\"data row7 col8\" >0.141810</td>\n",
              "      <td id=\"T_161b0_row7_col9\" class=\"data row7 col9\" >-0.027763</td>\n",
              "      <td id=\"T_161b0_row7_col10\" class=\"data row7 col10\" >-0.110585</td>\n",
              "    </tr>\n",
              "    <tr>\n",
              "      <th id=\"T_161b0_level0_row8\" class=\"row_heading level0 row8\" >Dam</th>\n",
              "      <td id=\"T_161b0_row8_col0\" class=\"data row8 col0\" >-0.014626</td>\n",
              "      <td id=\"T_161b0_row8_col1\" class=\"data row8 col1\" >-0.106179</td>\n",
              "      <td id=\"T_161b0_row8_col2\" class=\"data row8 col2\" >0.223379</td>\n",
              "      <td id=\"T_161b0_row8_col3\" class=\"data row8 col3\" >-0.106427</td>\n",
              "      <td id=\"T_161b0_row8_col4\" class=\"data row8 col4\" >-0.249824</td>\n",
              "      <td id=\"T_161b0_row8_col5\" class=\"data row8 col5\" >-0.189783</td>\n",
              "      <td id=\"T_161b0_row8_col6\" class=\"data row8 col6\" >-0.102369</td>\n",
              "      <td id=\"T_161b0_row8_col7\" class=\"data row8 col7\" >0.141810</td>\n",
              "      <td id=\"T_161b0_row8_col8\" class=\"data row8 col8\" >1.000000</td>\n",
              "      <td id=\"T_161b0_row8_col9\" class=\"data row8 col9\" >-0.002987</td>\n",
              "      <td id=\"T_161b0_row8_col10\" class=\"data row8 col10\" >0.011529</td>\n",
              "    </tr>\n",
              "    <tr>\n",
              "      <th id=\"T_161b0_level0_row9\" class=\"row_heading level0 row9\" >RT</th>\n",
              "      <td id=\"T_161b0_row9_col0\" class=\"data row9 col0\" >0.147731</td>\n",
              "      <td id=\"T_161b0_row9_col1\" class=\"data row9 col1\" >-0.010882</td>\n",
              "      <td id=\"T_161b0_row9_col2\" class=\"data row9 col2\" >-0.198816</td>\n",
              "      <td id=\"T_161b0_row9_col3\" class=\"data row9 col3\" >-0.125306</td>\n",
              "      <td id=\"T_161b0_row9_col4\" class=\"data row9 col4\" >-0.178828</td>\n",
              "      <td id=\"T_161b0_row9_col5\" class=\"data row9 col5\" >-0.420850</td>\n",
              "      <td id=\"T_161b0_row9_col6\" class=\"data row9 col6\" >-0.006838</td>\n",
              "      <td id=\"T_161b0_row9_col7\" class=\"data row9 col7\" >-0.027763</td>\n",
              "      <td id=\"T_161b0_row9_col8\" class=\"data row9 col8\" >-0.002987</td>\n",
              "      <td id=\"T_161b0_row9_col9\" class=\"data row9 col9\" >1.000000</td>\n",
              "      <td id=\"T_161b0_row9_col10\" class=\"data row9 col10\" >-0.228612</td>\n",
              "    </tr>\n",
              "    <tr>\n",
              "      <th id=\"T_161b0_level0_row10\" class=\"row_heading level0 row10\" >RS</th>\n",
              "      <td id=\"T_161b0_row10_col0\" class=\"data row10 col0\" >-0.126572</td>\n",
              "      <td id=\"T_161b0_row10_col1\" class=\"data row10 col1\" >0.097639</td>\n",
              "      <td id=\"T_161b0_row10_col2\" class=\"data row10 col2\" >0.029109</td>\n",
              "      <td id=\"T_161b0_row10_col3\" class=\"data row10 col3\" >-0.075024</td>\n",
              "      <td id=\"T_161b0_row10_col4\" class=\"data row10 col4\" >-0.051953</td>\n",
              "      <td id=\"T_161b0_row10_col5\" class=\"data row10 col5\" >0.563832</td>\n",
              "      <td id=\"T_161b0_row10_col6\" class=\"data row10 col6\" >-0.047814</td>\n",
              "      <td id=\"T_161b0_row10_col7\" class=\"data row10 col7\" >-0.110585</td>\n",
              "      <td id=\"T_161b0_row10_col8\" class=\"data row10 col8\" >0.011529</td>\n",
              "      <td id=\"T_161b0_row10_col9\" class=\"data row10 col9\" >-0.228612</td>\n",
              "      <td id=\"T_161b0_row10_col10\" class=\"data row10 col10\" >1.000000</td>\n",
              "    </tr>\n",
              "  </tbody>\n",
              "</table>\n"
            ]
          },
          "metadata": {},
          "execution_count": 18
        }
      ],
      "source": [
        "corr = data.corr()\n",
        "corr.style.background_gradient(cmap='coolwarm')"
      ]
    },
    {
      "cell_type": "code",
      "execution_count": null,
      "id": "44273202",
      "metadata": {
        "colab": {
          "base_uri": "https://localhost:8080/",
          "height": 297
        },
        "id": "44273202",
        "outputId": "0e9b7f24-1320-435a-822a-9f5dcfb679a3"
      },
      "outputs": [
        {
          "output_type": "display_data",
          "data": {
            "text/plain": [
              "<Figure size 432x288 with 10 Axes>"
            ],
            "image/png": "[encoded data removed]"
          },
          "metadata": {
            "needs_background": "light"
          }
        }
      ],
      "source": [
        "# Check distirbutions of numerical columns\n",
        "def draw_histograms(df, variables, n_rows, n_cols):\n",
        "    fig=plt.figure()\n",
        "    for i, var_name in enumerate(variables):\n",
        "        ax=fig.add_subplot(n_rows,n_cols,i+1)\n",
        "        df[var_name].hist(bins=10,ax=ax)\n",
        "        ax.set_title(var_name+\" Distribution\")\n",
        "    fig.tight_layout()  # Improves appearance a bit.\n",
        "    plt.show()\n",
        "data_temp = data[[\"Fish\", \"Mercury\", \"Elevation\", \"Surface Area\", \"Max Depth\", \"RF\", \"FR\", \"Dam\", \"RT\", \"RS\"]]\n",
        "draw_histograms(data, data_temp.columns, 4, 3)"
      ]
    },
    {
      "cell_type": "markdown",
      "id": "7a13076e",
      "metadata": {
        "id": "7a13076e"
      },
      "source": [
        "## Regression Modelling"
      ]
    },
    {
      "cell_type": "code",
      "execution_count": null,
      "id": "ac9cdf57",
      "metadata": {
        "id": "ac9cdf57"
      },
      "outputs": [],
      "source": [
        "# Differentiate X and Y\n",
        "X = data.drop(['Mercury'], axis = 1)\n",
        "y = data['Mercury']"
      ]
    },
    {
      "cell_type": "code",
      "execution_count": null,
      "id": "9a47266d",
      "metadata": {
        "id": "9a47266d"
      },
      "outputs": [],
      "source": [
        "# SPlit the dataset into training and testing sets, with a ratio of 70% and 30% respectively.\n",
        "X_train, X_test, y_train, y_test = train_test_split(X, \n",
        "                                                    y, \n",
        "                                                    test_size = 0.3,\n",
        "                                                   random_state = 42)"
      ]
    },
    {
      "cell_type": "code",
      "execution_count": null,
      "id": "e6300f9f",
      "metadata": {
        "colab": {
          "base_uri": "https://localhost:8080/"
        },
        "id": "e6300f9f",
        "outputId": "2c7c9610-f9aa-42c5-f964-6b9ae02a59c4"
      },
      "outputs": [
        {
          "output_type": "stream",
          "name": "stdout",
          "text": [
            "                            OLS Regression Results                            \n",
            "==============================================================================\n",
            "Dep. Variable:                Mercury   R-squared:                       0.159\n",
            "Model:                            OLS   Adj. R-squared:                  0.045\n",
            "Method:                 Least Squares   F-statistic:                     1.397\n",
            "Date:                Tue, 22 Nov 2022   Prob (F-statistic):              0.198\n",
            "Time:                        13:41:46   Log-Likelihood:                -3.5105\n",
            "No. Observations:                  85   AIC:                             29.02\n",
            "Df Residuals:                      74   BIC:                             55.89\n",
            "Df Model:                          10                                         \n",
            "Covariance Type:            nonrobust                                         \n",
            "=================================================================================\n",
            "                    coef    std err          t      P>|t|      [0.025      0.975]\n",
            "---------------------------------------------------------------------------------\n",
            "const             0.7964      0.236      3.375      0.001       0.326       1.267\n",
            "Fish           6.362e-05      0.027      0.002      0.998      -0.055       0.055\n",
            "Elevation        -0.0002   7.49e-05     -2.626      0.010      -0.000   -4.75e-05\n",
            "Drainage Area  8.593e-05      0.000      0.192      0.848      -0.001       0.001\n",
            "Surface Area   -6.36e-06   2.15e-05     -0.295      0.768   -4.93e-05    3.65e-05\n",
            "Max Depth        -0.0018      0.002     -1.216      0.228      -0.005       0.001\n",
            "RF               -0.3063      0.282     -1.088      0.280      -0.867       0.255\n",
            "FR               -0.0004      0.003     -0.145      0.885      -0.006       0.005\n",
            "Dam              -0.0260      0.067     -0.387      0.700      -0.160       0.108\n",
            "RT                0.0021      0.046      0.047      0.963      -0.089       0.093\n",
            "RS                0.0906      0.080      1.128      0.263      -0.069       0.251\n",
            "==============================================================================\n",
            "Omnibus:                        6.869   Durbin-Watson:                   2.051\n",
            "Prob(Omnibus):                  0.032   Jarque-Bera (JB):                6.979\n",
            "Skew:                           0.701   Prob(JB):                       0.0305\n",
            "Kurtosis:                       2.926   Cond. No.                     2.47e+04\n",
            "==============================================================================\n",
            "\n",
            "Notes:\n",
            "[1] Standard Errors assume that the covariance matrix of the errors is correctly specified.\n",
            "[2] The condition number is large, 2.47e+04. This might indicate that there are\n",
            "strong multicollinearity or other numerical problems.\n"
          ]
        },
        {
          "output_type": "stream",
          "name": "stderr",
          "text": [
            "/usr/local/lib/python3.7/dist-packages/statsmodels/tsa/tsatools.py:142: FutureWarning: In a future version of pandas all arguments of concat except for the argument 'objs' will be keyword-only\n",
            "  x = pd.concat(x[::order], 1)\n"
          ]
        }
      ],
      "source": [
        "import statsmodels.api as sm\n",
        "\n",
        "#add constant to predictor variables\n",
        "x = sm.add_constant(X_train)\n",
        "\n",
        "#fit linear regression model\n",
        "model = sm.OLS(y_train, x).fit()\n",
        "\n",
        "#view model summary\n",
        "print(model.summary())"
      ]
    },
    {
      "cell_type": "code",
      "execution_count": null,
      "id": "0f598f86",
      "metadata": {
        "id": "0f598f86"
      },
      "outputs": [],
      "source": [
        "lm = skl_lm.LinearRegression()\n",
        "model = lm.fit(X_train, \n",
        "               y_train)"
      ]
    },
    {
      "cell_type": "code",
      "execution_count": null,
      "id": "fc3539b6",
      "metadata": {
        "colab": {
          "base_uri": "https://localhost:8080/"
        },
        "id": "fc3539b6",
        "outputId": "ff85d900-7733-4f72-af94-677d597b08a2"
      },
      "outputs": [
        {
          "output_type": "stream",
          "name": "stdout",
          "text": [
            "Folds: 10, MSE: 0.08027855555635814, STD: 0.02598705356009562\n"
          ]
        }
      ],
      "source": [
        "loo = LeaveOneOut()\n",
        "loo.get_n_splits(X_train)\n",
        "from sklearn.model_selection import KFold\n",
        "\n",
        "crossvalidation = KFold(n_splits = 10, \n",
        "                        random_state = 42,\n",
        "                       shuffle = True)\n",
        "\n",
        "scores = cross_val_score(model, \n",
        "                         X_train,\n",
        "                         y_train,\n",
        "                         scoring = \"neg_mean_squared_error\", \n",
        "                         cv = crossvalidation,\n",
        "                         n_jobs = 1)\n",
        "\n",
        "print(\"Folds: \" + str(len(scores)) + \", MSE: \" + str(np.mean(np.abs(scores))) + \", STD: \" + str(np.std(scores)))"
      ]
    },
    {
      "cell_type": "markdown",
      "id": "79f5e906",
      "metadata": {
        "id": "79f5e906"
      },
      "source": [
        "## Testing"
      ]
    },
    {
      "cell_type": "code",
      "execution_count": null,
      "id": "d78b7f9c",
      "metadata": {
        "colab": {
          "base_uri": "https://localhost:8080/"
        },
        "id": "d78b7f9c",
        "outputId": "544bd45e-6f17-4968-d6a0-0eb707b26070"
      },
      "outputs": [
        {
          "output_type": "stream",
          "name": "stdout",
          "text": [
            "0.22630147858802638\n"
          ]
        }
      ],
      "source": [
        "pred = model.predict(X_test)\n",
        "\n",
        "from sklearn.metrics import mean_squared_error\n",
        "\n",
        "MSE = mean_squared_error(y_test, pred)\n",
        "    \n",
        "print(MSE)"
      ]
    },
    {
      "cell_type": "code",
      "execution_count": null,
      "id": "2d4c22f1",
      "metadata": {
        "id": "2d4c22f1"
      },
      "outputs": [],
      "source": []
    }
  ],
  "metadata": {
    "kernelspec": {
      "display_name": "Python 3.11.0 64-bit",
      "language": "python",
      "name": "python3"
    },
    "language_info": {
      "codemirror_mode": {
        "name": "ipython",
        "version": 3
      },
      "file_extension": ".py",
      "mimetype": "text/x-python",
      "name": "python",
      "nbconvert_exporter": "python",
      "pygments_lexer": "ipython3",
      "version": "3.11.0"
    },
    "vscode": {
      "interpreter": {
        "hash": "e17c78a14aa2424c0334c81e4198d56011288d192840c45bb969b898c2ce6915"
      }
    },
    "colab": {
      "provenance": [],
      "toc_visible": true,
      "name": "HIT-140-A2.ipynb",
      "include_colab_link": true
    }
  },
  "nbformat": 4,
  "nbformat_minor": 5
}